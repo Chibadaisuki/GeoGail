from __future__ import print_function
import pandas as pd
import json
import time
import numpy as np
%matplotlib inline
# get indexed data
gender_age_train = pd.read_csv('./raw/gender_age_train.csv')
# gender_age_train.set_index(keys='device_id', inplace=True)
events = pd.read_csv('./raw/events.csv')
# events.set_index(keys='device_id', inplace=True)
# merge the two dataframes
merged = pd.merge(gender_age_train, events, on='device_id')
merged.reset_index(inplace=True)
merged.set_index(['device_id', 'timestamp'], inplace=True)
merged.sort_index(inplace=True)
merged = merged[(merged['longitude']>100) & (merged['latitude']>30)]

longtitude_min = merged['longitude'].min()
longtitude_max = merged['longitude'].max()
latitude_min = merged['latitude'].min()
latitude_max = merged['latitude'].max()
print(longtitude_min, longtitude_max)    
print(latitude_min, latitude_max)
def get_index(lng, lat):
    return int(lng - longtitude_min), int(lat - latitude_min)

# get group-wise trajs
trajs = {}
all_groups = list(set(merged['group']))
for g in all_groups:
    print("Current Process Group : %s"%g)
    trajs[g] = []
    s = merged[merged['group']==g][['longitude', 'latitude']]
    users = set(s.reset_index()['device_id'])
    for u in users:
        traj = []
        for _, row in s.loc[u].reset_index().iterrows():
            ta = time.strptime(row['timestamp'], "%Y-%m-%d %H:%M:%S")
            ta0 = time.strptime('2016-05-01 00:00:00', "%Y-%m-%d %H:%M:%S")
            timestamp = int(time.mktime(ta)) - int(time.mktime(ta0))
            traj += [(timestamp%(24*3600), get_index(row['longitude'], row['latitude']))]
        trajs[g] += [traj]

for g in all_groups:
    print(len(trajs[g]))
    trajs[g]
